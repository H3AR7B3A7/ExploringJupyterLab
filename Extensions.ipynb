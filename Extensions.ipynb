{
 "cells": [
  {
   "cell_type": "markdown",
   "metadata": {},
   "source": [
    "# Extensions"
   ]
  },
  {
   "cell_type": "markdown",
   "metadata": {},
   "source": [
    "Be sure to open a cmd-promt with admin rights..."
   ]
  },
  {
   "cell_type": "markdown",
   "metadata": {},
   "source": [
    "## Git"
   ]
  },
  {
   "cell_type": "markdown",
   "metadata": {},
   "source": [
    "##### Installation\n",
    "```\n",
    "pip install --upgrade jupyterlab jupyterlab-git\n",
    "jupyter lab build\n",
    "```"
   ]
  },
  {
   "cell_type": "markdown",
   "metadata": {},
   "source": [
    "## TOC"
   ]
  },
  {
   "cell_type": "markdown",
   "metadata": {},
   "source": [
    "##### Installation\n",
    "```\n",
    "jupyter labextension install @jupyterlab/toc\n",
    "```"
   ]
  },
  {
   "cell_type": "markdown",
   "metadata": {},
   "source": [
    "## LSP with 'full' autocompletion"
   ]
  },
  {
   "cell_type": "markdown",
   "metadata": {},
   "source": [
    "##### Installation\n",
    "Python 3 and JuoyterLab 2.2 or higher required.\n",
    "R & R tools are also a requirement. Don't forget to add R folders to PATH variables.\n",
    "```\n",
    "NodeJs:\n",
    "choco install nodejs\n",
    "\n",
    "Frontend:\n",
    "jupyter labextension install @krassowski/jupyterlab-lsp\n",
    "\n",
    "LSP Servers:\n",
    "pip install python-language-server[all]\n",
    "R -e 'install.packages(\"languageserver\")'\n",
    "```"
   ]
  },
  {
   "cell_type": "markdown",
   "metadata": {},
   "source": [
    "##### Setup\n",
    "Change settings in 'advanced settings editor' > 'Code completion'\n",
    "```\n",
    "{\n",
    "    \"continuousHinting\": true,\n",
    "    \"showDocumentation\": true,\n",
    "    \"suppressInvokeIn\": [\n",
    "        \"comment\",\n",
    "        \"string\"\n",
    "    ],\n",
    "    \"theme\": \"material\"\n",
    "}\n",
    "```"
   ]
  },
  {
   "cell_type": "markdown",
   "metadata": {},
   "source": [
    "## Code Formatter"
   ]
  },
  {
   "cell_type": "markdown",
   "metadata": {},
   "source": [
    "##### Installation\n",
    "```\n",
    "Extension:\n",
    "jupyter labextension install @ryantam626/jupyterlab_code_formatter\n",
    "pip install jupyterlab_code_formatter\n",
    "jupyter serverextension enable --py jupyterlab_code_formatter\n",
    "\n",
    "Formatter:\n",
    "pip install black isort\n",
    "```\n",
    "If you get an error on starting Jupyter Lab saying:\n",
    "```\n",
    "Writing failed: [Errno 2] No such file or directory: 'C:\\\\Users\\\\Admin\\\\AppData\\\\Local\\\\black\\\\black\\\\Cache\\\\20.8b1\n",
    "```\n",
    "Just create the folder manually."
   ]
  },
  {
   "cell_type": "markdown",
   "metadata": {},
   "source": [
    "## Jupytext"
   ]
  },
  {
   "cell_type": "markdown",
   "metadata": {},
   "source": [
    "##### Installation\n",
    "```\n",
    "Jupytext:\n",
    "pip install jupytext\n",
    "\n",
    "Extension:\n",
    "jupyter labextension install jupyterlab-jupytext\n",
    "or on older Juppyter Lab:\n",
    "jupyter labextension install jupyterlab-jupytext@1.1.1\n",
    "```"
   ]
  },
  {
   "cell_type": "markdown",
   "metadata": {},
   "source": [
    "## Matplotlib"
   ]
  },
  {
   "cell_type": "markdown",
   "metadata": {},
   "source": [
    "##### Installation\n",
    "Matplotlib is not yet compatible with newer versions of Python: use 3.7.9\n",
    "```\n",
    "Matplotlib:\n",
    "pip install matplotlib\n",
    "\n",
    "Extension:\n",
    "pip install ipympl\n",
    "\n",
    "Widget manager:\n",
    "jupyter labextension install @jupyter-widgets/jupyterlab-manager\n",
    "```"
   ]
  },
  {
   "cell_type": "markdown",
   "metadata": {},
   "source": [
    "## IpyCanvas"
   ]
  },
  {
   "cell_type": "markdown",
   "metadata": {},
   "source": [
    "##### Installation\n",
    "```\n",
    "IpyCanvas:\n",
    "pip install ipycanvas\n",
    "\n",
    "Extension:\n",
    "jupyter labextension install ipycanvas\n",
    "```"
   ]
  },
  {
   "cell_type": "markdown",
   "metadata": {},
   "source": [
    "## Notebook extensions"
   ]
  },
  {
   "cell_type": "markdown",
   "metadata": {},
   "source": [
    "##### Installation\n",
    "To avoid 'template_path not recognized' errors, use:\n",
    "```\n",
    "pip install nbconvert==5.6.1\n",
    "```"
   ]
  },
  {
   "cell_type": "markdown",
   "metadata": {},
   "source": [
    "## ..."
   ]
  }
 ],
 "metadata": {
  "kernelspec": {
   "display_name": "Python 3",
   "language": "python",
   "name": "python3"
  },
  "language_info": {
   "codemirror_mode": {
    "name": "ipython",
    "version": 3
   },
   "file_extension": ".py",
   "mimetype": "text/x-python",
   "name": "python",
   "nbconvert_exporter": "python",
   "pygments_lexer": "ipython3",
   "version": "3.7.9"
  }
 },
 "nbformat": 4,
 "nbformat_minor": 4
}
